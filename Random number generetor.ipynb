{
 "cells": [
  {
   "cell_type": "markdown",
   "metadata": {},
   "source": [
    "## Program to generate random number"
   ]
  },
  {
   "cell_type": "markdown",
   "metadata": {},
   "source": [
    "# Linear Congural random number generetor"
   ]
  },
  {
   "cell_type": "code",
   "execution_count": 1,
   "metadata": {},
   "outputs": [
    {
     "name": "stdout",
     "output_type": "stream",
     "text": [
      "[0.293732   0.6495621  0.42354346 0.9319206  0.03771357 0.0926854\n",
      " 0.212257   0.47234232 0.0380651  0.09345004 0.2139202  0.47596002\n",
      " 0.0459341  0.11056623 0.25115036 0.55694095 0.22207921 0.49370704\n",
      " 0.0845364  0.19453177 0.43378741 0.95420264 0.0861802  0.19810726\n",
      " 0.44156462 0.97111918 0.12297609 0.27814359 0.61565507 0.34979082\n",
      " 0.77149806 0.6887716 ]\n"
     ]
    },
    {
     "data": {
      "text/plain": [
       "dtype('float64')"
      ]
     },
     "execution_count": 1,
     "metadata": {},
     "output_type": "execute_result"
    }
   ],
   "source": [
    "import math\n",
    "import numpy as np\n",
    "from decimal import Decimal\n",
    "import random\n",
    "import pandas as pd\n",
    "\n",
    "\n",
    "\n",
    "def gen_linear(a, seed,c, m):\n",
    "\tx=seed\n",
    "\tres=[]\n",
    "    \n",
    "\tfor i in range(0,32):\n",
    "                val = (a * x + c) % m\n",
    "                x = val/m\n",
    "                res=np.append(res,x)\n",
    "                            \n",
    "\treturn (res)\n",
    "a=2175143                                   # suitable range is from 12-23\n",
    "X0=3553\n",
    "c=10653\n",
    "m=1000000\n",
    "res=gen_linear(a,X0,c,m)\n",
    "r_number=res\n",
    "print(r_number)\n",
    "\n",
    "r_number.dtype\n",
    "# r_number.dtype()\n",
    "# for i in range(0,32):\n",
    "#     temp1=(r_number[i])\n",
    "#     temp2=round(temp1,2)\n",
    "#     value=np.append(value,temp2)\n",
    "    \n",
    "# print(value)\n",
    "\n"
   ]
  }
 ],
 "metadata": {
  "kernelspec": {
   "display_name": "Python 3",
   "language": "python",
   "name": "python3"
  },
  "language_info": {
   "codemirror_mode": {
    "name": "ipython",
    "version": 3
   },
   "file_extension": ".py",
   "mimetype": "text/x-python",
   "name": "python",
   "nbconvert_exporter": "python",
   "pygments_lexer": "ipython3",
   "version": "3.7.4"
  }
 },
 "nbformat": 4,
 "nbformat_minor": 2
}
