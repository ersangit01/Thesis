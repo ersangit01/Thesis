{
 "cells": [
  {
   "cell_type": "markdown",
   "metadata": {},
   "source": [
    "## Use of PULP to imply Dc load curtailment in IEEE RTS 24 bus system\n"
   ]
  },
  {
   "cell_type": "code",
   "execution_count": 3,
   "metadata": {},
   "outputs": [],
   "source": [
    "import pandas as pd\n",
    "import numpy as np\n",
    "\n",
    "from pulp import*\n",
    "from random import*\n",
    "\n",
    "\n",
    "#Reading the datas from CSV file\n",
    "\n",
    "B_matrix=pd.read_csv('Bmatrix.csv')\n",
    "bA_matrix=pd.read_csv('bA.csv')\n",
    "gen_data=pd.read_csv('f2.csv')\n",
    "line_data=pd.read_csv('f3v2.csv')"
   ]
  },
  {
   "cell_type": "code",
   "execution_count": 5,
   "metadata": {},
   "outputs": [
    {
     "name": "stdout",
     "output_type": "stream",
     "text": [
      "Status: Optimal\n",
      "Load curtailment value: -2.1552590601103816e-08\n",
      "G_0 = 1.8646625\n",
      "G_1 = 1.92\n",
      "G_12 = 5.91\n",
      "G_14 = 0.663\n",
      "G_15 = 0.543\n",
      "G_17 = 1.0\n",
      "G_20 = 4.0\n",
      "G_21 = 3.0\n",
      "G_22 = 6.6\n",
      "G_6 = 3.0\n",
      "I_0 = 1.0\n",
      "I_1 = 1.0\n",
      "I_10 = 1.0\n",
      "I_11 = 1.0\n",
      "I_12 = 1.0\n",
      "I_13 = 1.0\n",
      "I_14 = 1.0\n",
      "I_15 = 1.0\n",
      "I_16 = 1.0\n",
      "I_17 = 1.0\n",
      "I_18 = 1.0\n",
      "I_19 = 1.0\n",
      "I_2 = 1.0\n",
      "I_20 = 1.0\n",
      "I_21 = 1.0\n",
      "I_22 = 1.0\n",
      "I_23 = 1.0\n",
      "I_3 = 1.0\n",
      "I_4 = 1.0\n",
      "I_5 = 1.0\n",
      "I_6 = 1.0\n",
      "I_7 = 1.0\n",
      "I_8 = 1.0\n",
      "I_9 = 1.0\n",
      "del_0 = 0.1937764\n",
      "del_1 = 0.19262699\n",
      "del_10 = 0.12947418\n",
      "del_11 = 0.076759224\n",
      "del_13 = 0.1549294\n",
      "del_14 = 0.11691114\n",
      "del_15 = 0.10315259\n",
      "del_16 = 0.053915537\n",
      "del_17 = 0.049507559\n",
      "del_18 = 0.087392121\n",
      "del_19 = -0.011301822\n",
      "del_2 = 0.26048541\n",
      "del_20 = -0.01876768\n",
      "del_21 = -0.1140311\n",
      "del_22 = -0.092782881\n",
      "del_23 = 0.17178231\n",
      "del_3 = 0.24420659\n",
      "del_4 = 0.24037794\n",
      "del_5 = 0.28085968\n",
      "del_6 = 0.10728153\n",
      "del_7 = 0.21473153\n",
      "del_8 = 0.20968489\n",
      "del_9 = 0.22638217\n"
     ]
    }
   ],
   "source": [
    "\n",
    "#Defining the constants required\n",
    "Nb=24  \n",
    "Nt=38\n",
    "sum_C=B_matrix.sum(axis=0)\n",
    "M=np.zeros(24)\n",
    "for i in range (0,24):\n",
    "    M[i]=sum_C[i]\n",
    "\n",
    "Demand=gen_data['Demand']\n",
    "D=np.zeros(24)\n",
    "for i in range (0,24):\n",
    "      D[i]=Demand[i]/100\n",
    "\n",
    "# for i in range (0,24):\n",
    "#      D[i]=2\n",
    "\n",
    "Gmax=[1.92,1.92,0,0,0,0,3,0,0,0,0,0,5.91,0,2.15,1.55,0,4,0,0,4,3,6.6,0]    \n",
    "Gmin=[0.624,0.624,0,0,0,0,0.75,0,0,0,0,0,2.07,0,0.663,0.543,0,1,0,0,1,0.6,2.486,0]\n",
    "\n",
    "Lmax=line_data['rateA']\n",
    "Fmax=np.zeros(38)\n",
    "for i in range(0,38):\n",
    "    Fmax[i]=Lmax[i]/100\n",
    "\n",
    "    \n",
    "# A new LP problem in PULP\n",
    "load_curtailment = LpProblem(\"test\", LpMinimize)\n",
    "\n",
    "#Defining optimization variables\n",
    "G = LpVariable.matrix(\"G\", list(range(Nb)),cat=' LpInteger')\n",
    "G[2],G[3],G[4],G[5],G[7],G[8],G[9],G[10],G[11],G[13],G[16],G[18],G[19],G[23]=0,0,0,0,0,0,0,0,0,0,0,0,0,0\n",
    "\n",
    "I= LpVariable.matrix(\"I\", list(range(Nb)),1,1,cat=' LpInteger')\n",
    "\n",
    "delta=LpVariable.matrix(\"del\",list(range(Nb)),cat='LpInteger')\n",
    "delta[12]=0  # bus 13 is slack bus\n",
    "\n",
    "\n",
    "#Defining constraints\n",
    "for i in range(Nb):\n",
    "        if i!=2 and i!=3 and i!=4 and i!=5 and i!=7 and i!=8 and i!=9 and i!=10 and i!=11 and i!=13 and i!=16 and i!=18 and i!=19 and i!=23  :\n",
    "            load_curtailment += G[i]>=Gmin[i]\n",
    "            load_curtailment += G[i]<=Gmax[i]   \n",
    "        load_curtailment += I[i]>=1   \n",
    "        load_curtailment += G[i]+lpDot(delta,B_matrix.loc[i,:])<=D[i]\n",
    "        load_curtailment += -G[i]-lpDot(delta,B_matrix.loc[i,:])<=0\n",
    "        \n",
    "for j in range(Nt):        \n",
    "        load_curtailment +=lpDot(bA_matrix.loc[i,:],delta)<=Fmax[i]\n",
    "        load_curtailment += -lpDot(bA_matrix.loc[i,:],delta)<=Fmax[i]\n",
    "        \n",
    "        \n",
    "#Defining objective function\n",
    "load_curtailment += -lpSum(G)-lpDot(M,delta)+lpDot(I,D)\n",
    "\n",
    "load_curtailment.solve()\n",
    "load_curtailment.writeLP(\"DC curtailment.lp\")\n",
    "\n",
    "\n",
    "\n",
    "# Printing the values of problem\n",
    "print(\"Status:\", LpStatus[load_curtailment.status])\n",
    "\n",
    "print(\"Load curtailment value:\", load_curtailment.objective.value())\n",
    "\n",
    "for v in load_curtailment.variables():\n",
    " \tprint(v.name, \"=\", v.varValue)\n",
    "    \n",
    "# print('\\n')\n",
    "# v=load_curtailment.objective.value()+lpSum(D)\n",
    "# print('Actual value',v)\n",
    "# print('Total load',lpSum(D))\n"
   ]
  },
  {
   "cell_type": "code",
   "execution_count": 44,
   "metadata": {},
   "outputs": [
    {
     "name": "stdout",
     "output_type": "stream",
     "text": [
      "There is no load curtailment beacuse the value is= -2.1552590601103816e-08\n"
     ]
    }
   ],
   "source": [
    "if load_curtailment.objective.value()>0:\n",
    "    print(\"There is load curtailment of \",load_curtailment.objective.value(),\"MW in pu\")\n",
    "else:\n",
    "    print(\"There is no load curtailment beacuse the value is=\",load_curtailment.objective.value())\n",
    "    "
   ]
  },
  {
   "cell_type": "code",
   "execution_count": 1,
   "metadata": {},
   "outputs": [
    {
     "ename": "NameError",
     "evalue": "name 'Gmax' is not defined",
     "output_type": "error",
     "traceback": [
      "\u001b[1;31m---------------------------------------------------------------------------\u001b[0m",
      "\u001b[1;31mNameError\u001b[0m                                 Traceback (most recent call last)",
      "\u001b[1;32m<ipython-input-1-a3767cc8cf2c>\u001b[0m in \u001b[0;36m<module>\u001b[1;34m\u001b[0m\n\u001b[1;32m----> 1\u001b[1;33m \u001b[0mlen\u001b[0m\u001b[1;33m(\u001b[0m\u001b[0mGmax\u001b[0m\u001b[1;33m)\u001b[0m\u001b[1;33m\u001b[0m\u001b[1;33m\u001b[0m\u001b[0m\n\u001b[0m",
      "\u001b[1;31mNameError\u001b[0m: name 'Gmax' is not defined"
     ]
    }
   ],
   "source": [
    "len(Gmax)"
   ]
  },
  {
   "cell_type": "code",
   "execution_count": null,
   "metadata": {},
   "outputs": [],
   "source": []
  }
 ],
 "metadata": {
  "kernelspec": {
   "display_name": "Python 3",
   "language": "python",
   "name": "python3"
  },
  "language_info": {
   "codemirror_mode": {
    "name": "ipython",
    "version": 3
   },
   "file_extension": ".py",
   "mimetype": "text/x-python",
   "name": "python",
   "nbconvert_exporter": "python",
   "pygments_lexer": "ipython3",
   "version": "3.7.4"
  }
 },
 "nbformat": 4,
 "nbformat_minor": 2
}
