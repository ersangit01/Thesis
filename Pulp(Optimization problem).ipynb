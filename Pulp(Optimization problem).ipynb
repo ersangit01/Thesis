{
 "cells": [
  {
   "cell_type": "code",
   "execution_count": 19,
   "metadata": {},
   "outputs": [
    {
     "name": "stdout",
     "output_type": "stream",
     "text": [
      "Status: Optimal\n",
      "Load curtailment value: 17.999764101702\n",
      "G_0 = 4.0\n",
      "G_1 = 4.0\n",
      "I_0 = 1.0\n",
      "I_1 = 1.0\n",
      "I_2 = 1.0\n",
      "del_1 = -0.18888598\n",
      "del_2 = -0.12256671\n"
     ]
    }
   ],
   "source": [
    "\n",
    "# If generation>demand than the status will be infeasible that means there will be no curtailment\n",
    "#If demand>genertation  than the status will be optimal that means there will be curtailment\n",
    "#Curtailment=Total demand-[Total genetation]-[Total injection ] @ that particular bus\n",
    "\n",
    "\n",
    "\n",
    "from pulp import*\n",
    "from random import*\n",
    "import numpy as np\n",
    "\n",
    "#Defining necessary constants\n",
    "\n",
    "N=3\n",
    "B=[23.243, -17.361,-5.882,-17.361,28.230,-10.8696,-5.8824,-10.8696,16.751]\n",
    "bA=[17.3611,-17.3611,0,0,10.8696,-10.8696,5.8824,0,-5.8824]\n",
    "d=[16,5,5]\n",
    "\n",
    "gmin=[2,1]\n",
    "gmax=[4,4]\n",
    "fmax=[5,5,5]\n",
    "\n",
    "\n",
    "# A new LP problem\n",
    "load_curtailment = LpProblem(\"test\", LpMinimize)\n",
    "\n",
    "#Defining variables\n",
    "G = LpVariable.matrix(\"G\", list(range(N)),cat=' LpInteger')\n",
    "G[2]=0\n",
    "I= LpVariable.matrix(\"I\", list(range(N)),1,1,cat=' LpInteger')\n",
    "\n",
    "delta=LpVariable.matrix(\"del\",list(range(N)),cat='LpInteger')\n",
    "delta[0]=0\n",
    "\n",
    "\n",
    "#Defining constraints\n",
    "for i in range(N):\n",
    "        if i!=2:\n",
    "            load_curtailment += G[i]>=gmin[i]\n",
    "            load_curtailment += G[i]<=gmax[i]   \n",
    "           \n",
    "        load_curtailment += I[i]>=1\n",
    "        load_curtailment += G[i]+lpDot(delta,B[3*i:3*i+3])<=d[i]\n",
    "        load_curtailment += -G[i]-lpDot(delta,B[3*i:3*i+3])<=0\n",
    "        load_curtailment +=lpDot(bA[3*i:3*i+3],delta)<=fmax[i]\n",
    "        load_curtailment += -lpDot(bA[3*i:3*i+3],delta)<=fmax[i]\n",
    "#Defining objective function\n",
    "\n",
    "R1=[23.243, -17.361,-5.8824]\n",
    "R2=[17.361,28.230,-10.8696]\n",
    "R3=[5.8824,-10.8696,16.751]\n",
    "#K=E-[lpSum(B[0]),lpSum(B[1]),lpSum(B[2])]\n",
    "# for i in range(N):\n",
    "#     I[i]=1\n",
    "    \n",
    "# print(lpDot(I,d))\n",
    "\n",
    "load_curtailment +=-lpSum(G)-lpDot(R1,delta)-lpDot(R2,delta)-lpDot(R3,delta)+lpDot(I,d)\n",
    "\n",
    "\n",
    "load_curtailment.solve()\n",
    "load_curtailment.writeLP(\"prob.lp\")\n",
    "\n",
    "#Printing the values of problem\n",
    "\n",
    "print(\"Status:\", LpStatus[load_curtailment.status])\n",
    "\n",
    "print(\"Load curtailment value:\", load_curtailment.objective.value())\n",
    "\n",
    "for v in load_curtailment.variables():\n",
    "\tprint(v.name, \"=\", v.varValue)\n",
    "\n",
    "    \n",
    "\n",
    "\n",
    "# if LpStatus[load_curtailment.status]=='Optimal':\n",
    "#     print(1)\n",
    "    \n",
    "# else:\n",
    "#     print(-1)\n",
    "\n",
    "\n",
    "\n"
   ]
  },
  {
   "cell_type": "code",
   "execution_count": 13,
   "metadata": {},
   "outputs": [
    {
     "name": "stdout",
     "output_type": "stream",
     "text": [
      "NOOO\n"
     ]
    }
   ],
   "source": [
    "if round(load_curtailment.objective.value(),2)>0:\n",
    "    print(\"YESS\")\n",
    "else:\n",
    "    print(\"NOOO\")\n",
    "    "
   ]
  },
  {
   "cell_type": "code",
   "execution_count": null,
   "metadata": {},
   "outputs": [],
   "source": []
  },
  {
   "cell_type": "code",
   "execution_count": null,
   "metadata": {},
   "outputs": [],
   "source": []
  }
 ],
 "metadata": {
  "kernelspec": {
   "display_name": "Python 3",
   "language": "python",
   "name": "python3"
  },
  "language_info": {
   "codemirror_mode": {
    "name": "ipython",
    "version": 3
   },
   "file_extension": ".py",
   "mimetype": "text/x-python",
   "name": "python",
   "nbconvert_exporter": "python",
   "pygments_lexer": "ipython3",
   "version": "3.7.4"
  }
 },
 "nbformat": 4,
 "nbformat_minor": 2
}
