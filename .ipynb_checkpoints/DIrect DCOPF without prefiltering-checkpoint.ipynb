{
 "cells": [
  {
   "cell_type": "code",
   "execution_count": 1,
   "metadata": {},
   "outputs": [],
   "source": [
    "# Importing the modeules and reading the csv files\n",
    "import pandas as pd\n",
    "import numpy as np\n",
    "\n",
    "from pulp import*\n",
    "from random import*\n",
    "\n",
    "\n",
    "#Reading the datas from CSV file\n",
    "\n",
    "B_matrix=pd.read_csv('Bmatrix.csv')\n",
    "bA_matrix=pd.read_csv('bA.csv')\n",
    "gen_data=pd.read_csv('f2.csv')\n",
    "line_data=pd.read_csv('f3v2.csv')\n"
   ]
  },
  {
   "cell_type": "code",
   "execution_count": 2,
   "metadata": {},
   "outputs": [],
   "source": [
    "#Defining the constants required\n",
    "Nb=24  \n",
    "Nt=38\n",
    "sum_C=B_matrix.sum(axis=0)\n",
    "M=np.zeros(24)\n",
    "for i in range (0,24):\n",
    "    M[i]=sum_C[i]\n",
    "\n",
    "Demand=gen_data['Demand']\n",
    "D=np.zeros(24)\n",
    "for i in range (0,24):\n",
    "      D[i]=Demand[i]/100\n",
    "\n",
    "# for i in range (0,24):\n",
    "#      D[i]=2\n",
    "\n",
    "\n",
    "\n",
    "# Gmax=[1.92,1.92,0,0,0,0,3,0,0,0,0,0,5.91,0,2.15,1.55,0,4,0,0,4,3,6.6,0]    \n",
    "# Gmin=[0.624,0.624,0,0,0,0,0.75,0,0,0,0,0,2.07,0,0.663,0.543,0,1,0,0,1,0.6,2.486,0]\n",
    "\n",
    "\n",
    "Lmax=line_data['rateA']\n",
    "Fmax=np.zeros(38)\n",
    "for i in range(0,38):\n",
    "    Fmax[i]=Lmax[i]/100\n",
    "    \n",
    "    \n",
    " # To import the FOR values of each generetors   \n",
    "rate=gen_data['FOR']          \n",
    "rate2=rate.replace(to_replace=0,value=np.nan)\n",
    "FOR_rate=rate2.dropna(axis=0).to_numpy()    # Size of FOR_rate=32\n",
    "\n",
    "# To import the max/min gen value of each generetor size is 32\n",
    "temp=gen_data['Gmax(MW)']/100\n",
    "Gmax_gen=temp.replace(to_replace=0,value=np.nan).dropna(axis=0).to_numpy()\n",
    "\n",
    "temp1=gen_data['Gmin(MW)']/100\n",
    "Gmin_gen=temp1.replace(to_replace=0,value=np.nan).dropna(axis=0).to_numpy()\n",
    "\n",
    "#To import the available generetor o/p according to number of buses\n",
    "g_avl=gen_data['Gavail']\n",
    "G_avl=g_avl.replace(to_replace=0,value=np.nan).dropna(axis=0).to_numpy()/100      #Size of G_val is 10\n"
   ]
  },
  {
   "cell_type": "code",
   "execution_count": 3,
   "metadata": {},
   "outputs": [],
   "source": [
    "# DEFINing a function to perform DC load flow\n",
    "\n",
    "def DC_LF(Gmax,Gmin):\n",
    "    \n",
    "    # A new LP problem in PULP\n",
    "    load_curtailment = LpProblem(\"test\", LpMinimize)\n",
    "\n",
    "    #Defining optimization variables\n",
    "    G = LpVariable.matrix(\"G\", list(range(Nb)),cat=' LpInteger')\n",
    "    G[2],G[3],G[4],G[5],G[7],G[8],G[9],G[10],G[11],G[13],G[16],G[18],G[19],G[23]=0,0,0,0,0,0,0,0,0,0,0,0,0,0\n",
    "\n",
    "    I= LpVariable.matrix(\"I\", list(range(Nb)),1,1,cat=' LpInteger')\n",
    "\n",
    "    delta=LpVariable.matrix(\"del\",list(range(Nb)),cat='LpInteger')\n",
    "    delta[12]=0  # bus 13 is slack bus\n",
    "    \n",
    "    \n",
    "    #Defining constraints\n",
    "    for i in range(Nb):\n",
    "        if i!=2 and i!=3 and i!=4 and i!=5 and i!=7 and i!=8 and i!=9 and i!=10 and i!=11 and i!=13 and i!=16 and i!=18 and i!=19 and i!=23  :\n",
    "            load_curtailment += G[i]>=Gmin[i]\n",
    "            load_curtailment += G[i]<=Gmax[i]   \n",
    "        load_curtailment += I[i]>=1   \n",
    "        load_curtailment += G[i]+lpDot(delta,B_matrix.loc[i,:])<=D[i]\n",
    "        load_curtailment += -G[i]-lpDot(delta,B_matrix.loc[i,:])<=0\n",
    "        \n",
    "    for j in range(Nt):        \n",
    "        load_curtailment +=lpDot(bA_matrix.loc[i,:],delta)<=Fmax[i]\n",
    "        load_curtailment += -lpDot(bA_matrix.loc[i,:],delta)<=Fmax[i]\n",
    "        \n",
    "        \n",
    "    #Defining objective function\n",
    "    load_curtailment += -lpSum(G)-lpDot(M,delta)+lpDot(I,D)\n",
    "\n",
    "    load_curtailment.solve()\n",
    "    load_curtailment.writeLP(\"Optimization problem.lp\")\n",
    "    return (load_curtailment.objective.value(),LpStatus[load_curtailment.status])"
   ]
  },
  {
   "cell_type": "code",
   "execution_count": 4,
   "metadata": {},
   "outputs": [],
   "source": [
    "#Defining the function to generate random number\n",
    "def LCG(m):\n",
    "    import numpy as np\n",
    "    a=2175143                                  \n",
    "    X0=3553\n",
    "    c=10653\n",
    "    x=X0\n",
    "    res=[]\n",
    "    \n",
    "    for i in range(0,32):\n",
    "                val = (a * x + c) % m\n",
    "                x = val/m\n",
    "                res=np.append(res,x)                         \n",
    "    return (res)\n",
    "\n"
   ]
  },
  {
   "cell_type": "code",
   "execution_count": 5,
   "metadata": {},
   "outputs": [],
   "source": [
    "#MAIN PROGRAM MODULE\n",
    "mod_value=1000000\n",
    "t_cont_count=0\n",
    "t_count=0\n",
    "for i in range(0,200):       #Main loop of MCS\n",
    "    R_num=LCG(mod_value)\n",
    "    G_max_update,G_min_update=np.zeros(32),np.zeros(32)\n",
    "               \n",
    "    for i in range(0,32):\n",
    "            if R_num[i]<FOR_rate[i]:\n",
    "                G_max_update[i],G_min_update[i]=0,0\n",
    "            else:\n",
    "                G_max_update[i],G_min_update[i]=Gmax_gen[i],Gmin_gen[i]\n",
    "          \n",
    "        \n",
    "        \n",
    "    Gmax_24=np.zeros(24)\n",
    "    Gmin_24=np.zeros(24)\n",
    "    for k in range(0,24):\n",
    "                if i!=2 and i!=3 and i!=4 and i!=5 and i!=7 and i!=8 and i!=9 and i!=10 and i!=11 and i!=13 and i!=16 and i!=18 and i!=19 and i!=23:\n",
    "                        \n",
    "                        Gmax_24[0],Gmin_24[0]=G_max_update[0:4].sum(),G_min_update[0:4].sum()\n",
    "                        Gmax_24[1],Gmin_24[1]=G_max_update[4:8].sum(),G_min_update[4:8].sum()\n",
    "                        Gmax_24[6],Gmin_24[6]=G_max_update[8:11].sum(),G_min_update[8:11].sum()\n",
    "                        Gmax_24[12],Gmin_24[12]=G_max_update[11:14].sum(),G_min_update[11:14].sum()\n",
    "                        Gmax_24[14],Gmin_24[14]=G_max_update[14:20].sum(),G_min_update[14:20].sum()\n",
    "                        Gmax_24[15],Gmin_24[15]=G_max_update[20:21].sum(),G_min_update[20:21].sum()\n",
    "                        Gmax_24[17],Gmin_24[17]=G_max_update[21:22].sum(),G_min_update[21:22].sum()\n",
    "                        Gmax_24[20],Gmin_24[20]=G_max_update[22:23].sum(),G_min_update[22:23].sum()\n",
    "                        Gmax_24[21],Gmin_24[21]=G_max_update[23:29].sum(),G_min_update[23:29].sum()\n",
    "                        Gmax_24[22],Gmin_24[22]=G_max_update[-3:].sum(),G_min_update[-3:].sum()\n",
    "                else:\n",
    "                        Gmax_24[i],Gmin_24[i]=0,0\n",
    "            \n",
    "    cur_value,status=DC_LF(Gmax_24,Gmin_24)\n",
    "    if round(cur_value,2)>=1 :\n",
    "            t_cont_count=t_cont_count+1\n",
    "                \n",
    "    t_count=t_count+1\n",
    "    mod_value=mod_value+1\n",
    "            \n",
    "          "
   ]
  },
  {
   "cell_type": "code",
   "execution_count": 6,
   "metadata": {},
   "outputs": [
    {
     "data": {
      "text/plain": [
       "200"
      ]
     },
     "execution_count": 6,
     "metadata": {},
     "output_type": "execute_result"
    }
   ],
   "source": [
    "t_count"
   ]
  },
  {
   "cell_type": "code",
   "execution_count": 7,
   "metadata": {},
   "outputs": [
    {
     "data": {
      "text/plain": [
       "25"
      ]
     },
     "execution_count": 7,
     "metadata": {},
     "output_type": "execute_result"
    }
   ],
   "source": [
    "t_cont_count"
   ]
  },
  {
   "cell_type": "code",
   "execution_count": null,
   "metadata": {},
   "outputs": [],
   "source": []
  }
 ],
 "metadata": {
  "kernelspec": {
   "display_name": "Python 3",
   "language": "python",
   "name": "python3"
  },
  "language_info": {
   "codemirror_mode": {
    "name": "ipython",
    "version": 3
   },
   "file_extension": ".py",
   "mimetype": "text/x-python",
   "name": "python",
   "nbconvert_exporter": "python",
   "pygments_lexer": "ipython3",
   "version": "3.7.4"
  }
 },
 "nbformat": 4,
 "nbformat_minor": 2
}
