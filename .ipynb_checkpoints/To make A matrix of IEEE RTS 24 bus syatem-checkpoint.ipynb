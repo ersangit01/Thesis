{
 "cells": [
  {
   "cell_type": "code",
   "execution_count": 13,
   "metadata": {},
   "outputs": [],
   "source": [
    "#Not to run this file again unless the Amatrix formed is needed to be re evaluated,otherwise the program will overwrite the\n",
    "#Bmatix csv file formed\n",
    "\n",
    "\n",
    "\n",
    "import pandas as pd\n",
    "import numpy as np\n",
    "\n",
    "\n",
    "#loading the excel file\n",
    "data1=pd.read_csv(\"f3v2.csv\")\n",
    "\n",
    "\n",
    "rows, cols = (38,38) \n",
    "  \n",
    "A =[[0 for x in range(rows)] for y in range(cols)] \n",
    "\n",
    "\n",
    "fbus=data1['fbus']  \n",
    "tbus=data1['tbus']\n",
    "l_no=data1['line no']\n",
    "\n",
    "\n",
    "for i in range (0,38):\n",
    "    A[i][fbus[i]-1]=1\n",
    "    A[i][tbus[i]-1]=-1\n",
    "    #print(i)\n",
    "    #print(A)\n",
    "\n",
    "\n",
    "pd.DataFrame(A).to_csv('Amatrix.csv')\n"
   ]
  },
  {
   "cell_type": "markdown",
   "metadata": {},
   "source": [
    "## Program to multiply b & A matrix\n"
   ]
  },
  {
   "cell_type": "code",
   "execution_count": 31,
   "metadata": {},
   "outputs": [],
   "source": [
    "import pandas as pd\n",
    "import numpy as np\n",
    "\n",
    "\n",
    "b=pd.read_csv(\"beematrix.csv\")\n",
    "a=pd.read_csv(\"Amatrix.csv\")\n",
    "\n",
    "\n",
    "\n",
    "a.head()\n",
    "b1=b\n",
    "a1=a\n",
    "\n",
    "result=np.dot(b1,a1)\n",
    "#print(result)\n",
    "\n",
    "pd.DataFrame(result).to_csv('bA.csv')"
   ]
  },
  {
   "cell_type": "code",
   "execution_count": null,
   "metadata": {},
   "outputs": [],
   "source": []
  }
 ],
 "metadata": {
  "kernelspec": {
   "display_name": "Python 3",
   "language": "python",
   "name": "python3"
  },
  "language_info": {
   "codemirror_mode": {
    "name": "ipython",
    "version": 3
   },
   "file_extension": ".py",
   "mimetype": "text/x-python",
   "name": "python",
   "nbconvert_exporter": "python",
   "pygments_lexer": "ipython3",
   "version": "3.7.4"
  }
 },
 "nbformat": 4,
 "nbformat_minor": 2
}
