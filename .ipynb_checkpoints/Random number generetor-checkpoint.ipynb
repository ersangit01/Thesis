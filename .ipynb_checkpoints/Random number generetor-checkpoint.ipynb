{
 "cells": [
  {
   "cell_type": "markdown",
   "metadata": {},
   "source": [
    "## Program to generate random number"
   ]
  },
  {
   "cell_type": "code",
   "execution_count": null,
   "metadata": {},
   "outputs": [],
   "source": [
    "\n",
    "# generate random floating point values\n",
    "from random import seed\n",
    "from random import random\n",
    "\n",
    "\n",
    "# seed random number generator\n",
    "seed(random())\n",
    "# generate random numbers between 0-1\n",
    "for _ in range(20):\n",
    "\tvalue = random()\n",
    "\tprint(value)"
   ]
  },
  {
   "cell_type": "markdown",
   "metadata": {},
   "source": [
    "# Linear Congural random number generetor"
   ]
  },
  {
   "cell_type": "code",
   "execution_count": 29,
   "metadata": {},
   "outputs": [
    {
     "name": "stdout",
     "output_type": "stream",
     "text": [
      "[Decimal('1.00') Decimal('53.00') Decimal('97.00') Decimal('65.00')\n",
      " Decimal('61.00') Decimal('73.00') Decimal('37.00') Decimal('45.00')\n",
      " Decimal('21.00') Decimal('93.00') Decimal('77.00') Decimal('25.00')\n",
      " Decimal('81.00') Decimal('13.00') Decimal('17.00') Decimal('5.00')\n",
      " Decimal('41.00') Decimal('33.00') Decimal('57.00') Decimal('85.00')\n",
      " Decimal('1.00') Decimal('53.00') Decimal('97.00') Decimal('65.00')\n",
      " Decimal('61.00') Decimal('73.00') Decimal('37.00') Decimal('45.00')\n",
      " Decimal('21.00') Decimal('93.00') Decimal('77.00') Decimal('25.00')]\n"
     ]
    }
   ],
   "source": [
    "import math\n",
    "import numpy as np\n",
    "from decimal import Decimal\n",
    "import random\n",
    "\n",
    "\n",
    "value=[]\n",
    "\n",
    "\n",
    "def gen_linear(a, seed,c, m):\n",
    "\tx=seed\n",
    "\tres=[]\n",
    "    \n",
    "\n",
    "\tfor i in range(0,32):\n",
    "                val = (a * x + c) % m\n",
    "                x = val\n",
    "                res=np.append(res,x)\n",
    "\treturn (res)\n",
    "a=22                                    # suitable range is from 12-23\n",
    "X0=35\n",
    "c=31\n",
    "m=100  \n",
    "res=gen_linear(a,X0,c,m)\n",
    "r_number=res\n",
    "for i in range(0,32):\n",
    "    temp1=Decimal(r_number[i])\n",
    "    temp2=round(temp1,2)\n",
    "    value=np.append(value,temp2)\n",
    "    \n",
    "print(value)\n",
    "\n"
   ]
  },
  {
   "cell_type": "code",
   "execution_count": null,
   "metadata": {},
   "outputs": [],
   "source": []
  }
 ],
 "metadata": {
  "kernelspec": {
   "display_name": "Python 3",
   "language": "python",
   "name": "python3"
  },
  "language_info": {
   "codemirror_mode": {
    "name": "ipython",
    "version": 3
   },
   "file_extension": ".py",
   "mimetype": "text/x-python",
   "name": "python",
   "nbconvert_exporter": "python",
   "pygments_lexer": "ipython3",
   "version": "3.7.4"
  }
 },
 "nbformat": 4,
 "nbformat_minor": 2
}
